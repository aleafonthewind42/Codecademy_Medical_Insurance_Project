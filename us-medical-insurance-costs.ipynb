{
 "cells": [
  {
   "cell_type": "markdown",
   "metadata": {},
   "source": [
    "# U.S. Medical Insurance Costs\n",
    "\n",
    "In this project, I will be examining data about BMI averages across various groups, including different age groups, smokers vs. non-smokers, and various regions\n"
   ]
  },
  {
   "cell_type": "markdown",
   "metadata": {},
   "source": [
    "## Setup\n",
    "Before beginning to analyze the data, I will be setting up my data in convenient Python variables. To start, my imported modules."
   ]
  },
  {
   "cell_type": "code",
   "execution_count": 1,
   "metadata": {},
   "outputs": [],
   "source": [
    "import csv\n",
    "from collections import Counter"
   ]
  },
  {
   "cell_type": "markdown",
   "metadata": {},
   "source": [
    "Now I read the data from csv and write each column to a separate list."
   ]
  },
  {
   "cell_type": "code",
   "execution_count": 2,
   "metadata": {},
   "outputs": [],
   "source": [
    "def create_lists(file, column):\n",
    "    created_list = []\n",
    "    with open(file, 'r', newline = '') as dataset:\n",
    "        insurance_data = csv.DictReader(dataset)\n",
    "        for entry in insurance_data:\n",
    "            created_list.append(entry[column])\n",
    "    return created_list\n",
    "\n",
    "ages = create_lists('insurance.csv', 'age')\n",
    "sexes = create_lists('insurance.csv', 'sex')\n",
    "bmis = create_lists('insurance.csv', 'bmi')\n",
    "num_children = create_lists('insurance.csv', 'children')\n",
    "smoker_status = create_lists('insurance.csv', 'smoker')\n",
    "regions = create_lists('insurance.csv', 'region')\n",
    "insurance_charges = create_lists('insurance.csv', 'charges')"
   ]
  },
  {
   "cell_type": "markdown",
   "metadata": {},
   "source": [
    "All of the lists are entirely composed of strings, and because we will be doing calculations, I convert the relevant lists to numeric data types."
   ]
  },
  {
   "cell_type": "code",
   "execution_count": 3,
   "metadata": {},
   "outputs": [],
   "source": [
    "ages = [eval(i) for i in ages]\n",
    "bmis = [eval(i) for i in bmis]\n",
    "num_children = [eval(i) for i in num_children]\n",
    "insurance_charges = [eval(i) for i in insurance_charges]"
   ]
  },
  {
   "cell_type": "markdown",
   "metadata": {},
   "source": [
    "I check to be sure no data is missing, assuming that missing data will display as \"NaN\" or as an empty string. This may not be the best assumption, but it's the best I can think to do besides inspection."
   ]
  },
  {
   "cell_type": "code",
   "execution_count": 19,
   "metadata": {},
   "outputs": [
    {
     "name": "stdout",
     "output_type": "stream",
     "text": [
      "[]\n",
      "[]\n",
      "[]\n",
      "[]\n",
      "[]\n",
      "[]\n",
      "[]\n"
     ]
    }
   ],
   "source": [
    "def check_missing(lst):\n",
    "    missing_data_indices = []\n",
    "    for i in range(len(lst)):\n",
    "        if lst[i] == 'NaN' or lst[i] == '':\n",
    "            missing_data_indices.append(i)\n",
    "    return missing_data_indices\n",
    "\n",
    "print(check_missing(ages))\n",
    "print(check_missing(sexes))\n",
    "print(check_missing(bmis))\n",
    "print(check_missing(num_children))\n",
    "print(check_missing(smoker_status))\n",
    "print(check_missing(regions))\n",
    "print(check_missing(insurance_charges))"
   ]
  },
  {
   "cell_type": "markdown",
   "metadata": {},
   "source": [
    "Great! There is no missing data!\n",
    "\n",
    "Most of my calculations will be easier to do by having individual records grouped together, so I create a list of dictionaries, where each dictionary corresponds to one patient."
   ]
  },
  {
   "cell_type": "code",
   "execution_count": 23,
   "metadata": {},
   "outputs": [],
   "source": [
    "patient_info = []\n",
    "\n",
    "for i in range(len(ages)):\n",
    "    patient_entry = {'age': ages[i], \n",
    "                     'sex': sexes[i], \n",
    "                     'bmi': bmis[i], \n",
    "                     'num_children': num_children[i], \n",
    "                     'smoker_status': smoker_status[i], \n",
    "                     'region': regions[i], \n",
    "                     'insurance_charges': insurance_charges[i]}\n",
    "    patient_info.append(patient_entry)"
   ]
  },
  {
   "cell_type": "markdown",
   "metadata": {},
   "source": [
    "Lastly, I will be calculating many averages throughout the remainder of this project, so I want a function which calculates averages."
   ]
  },
  {
   "cell_type": "code",
   "execution_count": 20,
   "metadata": {},
   "outputs": [],
   "source": [
    "def calculate_average(lst):\n",
    "    total = 0\n",
    "    for entry in lst:\n",
    "        total += entry\n",
    "    return round(total / len(lst), 2)"
   ]
  },
  {
   "cell_type": "markdown",
   "metadata": {},
   "source": [
    "## Age-BMI Comparisons\n",
    "Now that everything is set-up, it's time to start examining some information about BMI averages. Note, I will be using the following ranges from the [CDC](https://www.cdc.gov/healthyweight/assessing/index.html):\n",
    "\n",
    "BMI < 18.5: Underweight \\\n",
    "18.5 <= BMI <= 24.9: Healthy \\\n",
    "25.0 <= BMI <= 29.9: Overweight \\\n",
    "BMI >= 30.0: Obese\n",
    "\n",
    "To start, I will find the average BMI for people in various age ranges. First, I find what ages are in the data "
   ]
  },
  {
   "cell_type": "code",
   "execution_count": 21,
   "metadata": {},
   "outputs": [
    {
     "name": "stdout",
     "output_type": "stream",
     "text": [
      "We have data on people from ages 18 to 64.\n"
     ]
    }
   ],
   "source": [
    "min_age = min(ages)\n",
    "max_age = max(ages)\n",
    "\n",
    "print(f'We have data on people from ages {min_age} to {max_age}.')"
   ]
  },
  {
   "cell_type": "markdown",
   "metadata": {},
   "source": [
    "Based on this, I have chosen the following age ranges to examine:\n",
    "\n",
    "18-27 \\\n",
    "28-36 \\\n",
    "37-45 \\\n",
    "46-54 \\\n",
    "55-64\n",
    "\n",
    "So I break up the BMI data into lists according to those range."
   ]
  },
  {
   "cell_type": "code",
   "execution_count": 25,
   "metadata": {},
   "outputs": [],
   "source": [
    "bmi_18_27 = []\n",
    "bmi_28_36 = []\n",
    "bmi_37_45 = []\n",
    "bmi_46_54 = []\n",
    "bmi_55_64 = []\n",
    "\n",
    "for patient in patient_info:\n",
    "    if patient['age'] <= 27:\n",
    "        bmi_18_27.append(patient['bmi'])\n",
    "    elif patient['age'] <= 36:\n",
    "        bmi_28_36.append(patient['bmi'])\n",
    "    elif patient['age'] <= 45:\n",
    "        bmi_37_45.append(patient['bmi'])\n",
    "    elif patient['age'] <= 54:\n",
    "        bmi_46_54.append(patient['bmi'])\n",
    "    else:\n",
    "        bmi_55_64.append(patient['bmi'])"
   ]
  },
  {
   "cell_type": "markdown",
   "metadata": {},
   "source": [
    "Now that Ihave all of the BMIs sorted, it's time to calculate averages."
   ]
  },
  {
   "cell_type": "code",
   "execution_count": 26,
   "metadata": {},
   "outputs": [
    {
     "name": "stdout",
     "output_type": "stream",
     "text": [
      "The average BMI for patients ages 18 to 27 is 29.91.\n",
      "The average BMI for patients ages 28 to 36 is 30.34.\n",
      "The average BMI for patients ages 37 to 45 is 30.33.\n",
      "The average BMI for patients ages 46 to 54 is 31.3.\n",
      "The average BMI for patients ages 55 to 64 is 31.76.\n"
     ]
    }
   ],
   "source": [
    "average_18_27 = calculate_average(bmi_18_27)\n",
    "average_28_36 = calculate_average(bmi_28_36)\n",
    "average_37_45 = calculate_average(bmi_37_45)\n",
    "average_46_54 = calculate_average(bmi_46_54)\n",
    "average_55_64 = calculate_average(bmi_55_64)\n",
    "\n",
    "print(f'The average BMI for patients ages 18 to 27 is {average_18_27}.')\n",
    "print(f'The average BMI for patients ages 28 to 36 is {average_28_36}.')\n",
    "print(f'The average BMI for patients ages 37 to 45 is {average_37_45}.')\n",
    "print(f'The average BMI for patients ages 46 to 54 is {average_46_54}.')\n",
    "print(f'The average BMI for patients ages 55 to 64 is {average_55_64}.')"
   ]
  },
  {
   "cell_type": "markdown",
   "metadata": {},
   "source": [
    "From this we see that generally patients' BMI seems to generally increase on average as they age, with the average patient reaching obesity by the age of 28."
   ]
  },
  {
   "cell_type": "markdown",
   "metadata": {},
   "source": [
    "## Sex-BMI Comparisons\n",
    "Now I will perform similar calculations for males vs females."
   ]
  },
  {
   "cell_type": "code",
   "execution_count": 27,
   "metadata": {},
   "outputs": [],
   "source": [
    "male_bmi = []\n",
    "female_bmi = []\n",
    "\n",
    "for entry in patient_info:\n",
    "    if entry['sex'].upper() == \"MALE\":\n",
    "        male_bmi.append(entry['bmi'])\n",
    "    else:\n",
    "        female_bmi.append(entry['bmi'])"
   ]
  },
  {
   "cell_type": "markdown",
   "metadata": {},
   "source": [
    "Now for the averages."
   ]
  },
  {
   "cell_type": "code",
   "execution_count": 29,
   "metadata": {},
   "outputs": [
    {
     "name": "stdout",
     "output_type": "stream",
     "text": [
      "The average male has a BMI of 30.94.\n",
      "The average female has a BMI of 30.38.\n"
     ]
    }
   ],
   "source": [
    "average_male = calculate_average(male_bmi)\n",
    "average_female = calculate_average(female_bmi)\n",
    "\n",
    "print(f'The average male has a BMI of {average_male}.')\n",
    "print(f'The average female has a BMI of {average_female}.')"
   ]
  },
  {
   "cell_type": "markdown",
   "metadata": {},
   "source": [
    "It seems that males and females have relatively similar BMI averages, with the aver female edging slightly healthier."
   ]
  },
  {
   "cell_type": "markdown",
   "metadata": {},
   "source": [
    "## Smoker-BMI Comparisons\n",
    "Continuing on, I compare smokers vs non-smokers."
   ]
  },
  {
   "cell_type": "code",
   "execution_count": 30,
   "metadata": {},
   "outputs": [],
   "source": [
    "smoker_bmi = []\n",
    "non_smoker_bmi = []\n",
    "\n",
    "for entry in patient_info:\n",
    "    if entry['smoker_status'].upper() == \"YES\":\n",
    "        smoker_bmi.append(entry['bmi'])\n",
    "    else:\n",
    "        non_smoker_bmi.append(entry['bmi'])"
   ]
  },
  {
   "cell_type": "markdown",
   "metadata": {},
   "source": [
    "And again, the averages:"
   ]
  },
  {
   "cell_type": "code",
   "execution_count": 31,
   "metadata": {},
   "outputs": [
    {
     "name": "stdout",
     "output_type": "stream",
     "text": [
      "The BMI of the average smoker is 30.71.\n",
      "The BMI of the average non-smoker is 30.65.\n"
     ]
    }
   ],
   "source": [
    "average_smoker = calculate_average(smoker_bmi)\n",
    "average_non_smoker = calculate_average(non_smoker_bmi)\n",
    "\n",
    "print(f'The BMI of the average smoker is {average_smoker}.')\n",
    "print(f'The BMI of the average non-smoker is {average_non_smoker}.')"
   ]
  },
  {
   "cell_type": "markdown",
   "metadata": {},
   "source": [
    "Again, there is fairly little difference between smokers and non-smokers. This is even closer than the male and female comaprisons."
   ]
  },
  {
   "cell_type": "markdown",
   "metadata": {},
   "source": [
    "## Region-BMI Comparisons\n",
    "Lastly, I will examine if there is any noticeable difference in average BMI across the regions represented in the data. To start, I need to figure out what the different regions area."
   ]
  },
  {
   "cell_type": "code",
   "execution_count": 32,
   "metadata": {},
   "outputs": [
    {
     "name": "stdout",
     "output_type": "stream",
     "text": [
      "Counter({'southeast': 364, 'southwest': 325, 'northwest': 325, 'northeast': 324})\n"
     ]
    }
   ],
   "source": [
    "region_counter = Counter(regions)\n",
    "\n",
    "print(region_counter)"
   ]
  },
  {
   "cell_type": "markdown",
   "metadata": {},
   "source": [
    "It seems there are four regions, and fortunately, there are a similar number of pateitns in each region (with the southeast slightly more represented). \n",
    "\n",
    "From here, everything is similar to before."
   ]
  },
  {
   "cell_type": "code",
   "execution_count": 33,
   "metadata": {},
   "outputs": [],
   "source": [
    "southeast_bmi = []\n",
    "southwest_bmi = []\n",
    "northwest_bmi = []\n",
    "northeast_bmi = []\n",
    "\n",
    "for entry in patient_info:\n",
    "    if entry['region'] == 'southeast':\n",
    "        southeast_bmi.append(entry['bmi'])\n",
    "    elif entry['region'] == 'southwest':\n",
    "        southwest_bmi.append(entry['bmi'])\n",
    "    elif entry['region'] == 'northeast':\n",
    "        northeast_bmi.append(entry['bmi'])\n",
    "    else:\n",
    "        northwest_bmi.append(entry['bmi'])"
   ]
  },
  {
   "cell_type": "code",
   "execution_count": 35,
   "metadata": {},
   "outputs": [
    {
     "name": "stdout",
     "output_type": "stream",
     "text": [
      "The average BMI of a patient in the Southeastern United States is 33.36.\n",
      "The average BMI of a patient in the Southwestern United States is 30.6.\n",
      "The average BMI of a patient in the Northeastern United States is 29.17.\n",
      "The average BMI of a patient in the Northwestern United States is 29.2.\n"
     ]
    }
   ],
   "source": [
    "average_southeast = calculate_average(southeast_bmi)\n",
    "average_southwest = calculate_average(southwest_bmi)\n",
    "average_northeast = calculate_average(northeast_bmi)\n",
    "average_northwest = calculate_average(northwest_bmi)\n",
    "\n",
    "print(f'The average BMI of a patient in the Southeastern United States is {average_southeast}.')\n",
    "print(f'The average BMI of a patient in the Southwestern United States is {average_southwest}.')\n",
    "print(f'The average BMI of a patient in the Northeastern United States is {average_northeast}.')\n",
    "print(f'The average BMI of a patient in the Northwestern United States is {average_northwest}.')"
   ]
  },
  {
   "cell_type": "markdown",
   "metadata": {},
   "source": [
    "Interestingly, a much different picture is shown here. Patients from the northeastern and northwestern United States fall within the overweight range, with the southwest falling barely obese. However, the southeast is sitting significantly higher than any other region."
   ]
  },
  {
   "cell_type": "markdown",
   "metadata": {},
   "source": [
    "## Conclusions\n",
    "I believe the most interesting fact gleaned is that the average BMI of patients from the southeast sits significantly higher than that of other regions. It would be interesting to pursue further analysis of the southeast region based on this information, including average insurance costs compared to regional or national averages."
   ]
  },
  {
   "cell_type": "code",
   "execution_count": null,
   "metadata": {},
   "outputs": [],
   "source": []
  }
 ],
 "metadata": {
  "kernelspec": {
   "display_name": "Python 3 (ipykernel)",
   "language": "python",
   "name": "python3"
  },
  "language_info": {
   "codemirror_mode": {
    "name": "ipython",
    "version": 3
   },
   "file_extension": ".py",
   "mimetype": "text/x-python",
   "name": "python",
   "nbconvert_exporter": "python",
   "pygments_lexer": "ipython3",
   "version": "3.11.1"
  }
 },
 "nbformat": 4,
 "nbformat_minor": 4
}
